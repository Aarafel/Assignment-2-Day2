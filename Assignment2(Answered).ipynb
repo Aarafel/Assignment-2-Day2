{
  "cells": [
    {
      "cell_type": "markdown",
      "id": "3c7a8819",
      "metadata": {
        "id": "3c7a8819"
      },
      "source": [
        "# Task1\n",
        "Write a Python program to add an item to a tuple."
      ]
    },
    {
      "cell_type": "code",
      "execution_count": 4,
      "id": "7bf26def",
      "metadata": {
        "colab": {
          "base_uri": "https://localhost:8080/"
        },
        "id": "7bf26def",
        "outputId": "79a29de6-ee67-4ab2-a497-b2948af66da2"
      },
      "outputs": [
        {
          "output_type": "stream",
          "name": "stdout",
          "text": [
            "(1, 2, 3, 4, 5, 6, 7)\n",
            "[1, 2, 3, 4, 5, 6, 7]\n",
            "(1, 2, 3, 4, 5, 6, 7)\n"
          ]
        }
      ],
      "source": [
        "my_tuple =(1,2,3,4,5,6)\n",
        "my_tuple = my_tuple + (7,)\n",
        "print(my_tuple)\n",
        "\n",
        "#or\n",
        "my_tuplee = (1,2,3,4,5,6)\n",
        "listed_tuple = list(my_tuplee)\n",
        "listed_tuple.append(7)\n",
        "print(listed_tuple)\n",
        "#now print it as tuple\n",
        "modified_tuple_from_list = tuple(listed_tuple)\n",
        "print(modified_tuple_from_list)"
      ]
    },
    {
      "cell_type": "markdown",
      "id": "a2932652",
      "metadata": {
        "id": "a2932652"
      },
      "source": [
        "# Task2\n",
        "Write a Python program to sum all the items in a list."
      ]
    },
    {
      "cell_type": "code",
      "execution_count": 6,
      "id": "17cc806d",
      "metadata": {
        "colab": {
          "base_uri": "https://localhost:8080/"
        },
        "id": "17cc806d",
        "outputId": "2a1afc04-de14-41b1-cd67-c573583a4762"
      },
      "outputs": [
        {
          "output_type": "stream",
          "name": "stdout",
          "text": [
            "15\n"
          ]
        }
      ],
      "source": [
        "sum = 0\n",
        "my_list1 = [1,2,3,4,5]\n",
        "for i in my_list1:\n",
        "  sum+= i\n",
        "print(sum)\n"
      ]
    },
    {
      "cell_type": "markdown",
      "id": "9439fccd",
      "metadata": {
        "id": "9439fccd"
      },
      "source": [
        "# Task3\n",
        "Write a Python program to multiply all the items in a list."
      ]
    },
    {
      "cell_type": "code",
      "execution_count": 12,
      "id": "7bd57bb5",
      "metadata": {
        "colab": {
          "base_uri": "https://localhost:8080/"
        },
        "id": "7bd57bb5",
        "outputId": "ea7ebbee-6e06-40cb-933b-dd01bf52a472"
      },
      "outputs": [
        {
          "output_type": "stream",
          "name": "stdout",
          "text": [
            "120\n"
          ]
        }
      ],
      "source": [
        "multiplication= 1\n",
        "my_list1 = [1,2,3,4,5]\n",
        "for i in my_list1:\n",
        "  multiplication*= i\n",
        "print(multiplication)\n"
      ]
    },
    {
      "cell_type": "markdown",
      "id": "1fef85c3",
      "metadata": {
        "id": "1fef85c3"
      },
      "source": [
        "# Task4\n",
        "Write a Python program to get the smallest number from a list."
      ]
    },
    {
      "cell_type": "code",
      "execution_count": 16,
      "id": "c77b606c",
      "metadata": {
        "colab": {
          "base_uri": "https://localhost:8080/"
        },
        "id": "c77b606c",
        "outputId": "765aace9-8f49-4eba-849d-e2e4fa6eab98"
      },
      "outputs": [
        {
          "output_type": "stream",
          "name": "stdout",
          "text": [
            "1\n"
          ]
        }
      ],
      "source": [
        "\n",
        "my_list1 = [1,2,3,4,5]\n",
        "smallest_number= my_list1[3]\n",
        "for num in my_list1:\n",
        "  if num < smallest_number:\n",
        "    smallest_number= num\n",
        "print(smallest_number)\n"
      ]
    },
    {
      "cell_type": "markdown",
      "id": "0d287243",
      "metadata": {
        "id": "0d287243"
      },
      "source": [
        "# Task5\n",
        "Write a Python program to get the largest number from a list."
      ]
    },
    {
      "cell_type": "code",
      "execution_count": 17,
      "id": "29bf3a84",
      "metadata": {
        "colab": {
          "base_uri": "https://localhost:8080/"
        },
        "id": "29bf3a84",
        "outputId": "0b4293cb-152f-48d7-941a-cbb00a476838"
      },
      "outputs": [
        {
          "output_type": "stream",
          "name": "stdout",
          "text": [
            "5\n"
          ]
        }
      ],
      "source": [
        "\n",
        "my_list1 = [1,2,3,4,5]\n",
        "largest_number= my_list1[3]\n",
        "for num in my_list1:\n",
        "  if num > largest_number:\n",
        "    largest_number= num\n",
        "print(largest_number)\n",
        "\n"
      ]
    },
    {
      "cell_type": "markdown",
      "id": "b2350932",
      "metadata": {
        "id": "b2350932"
      },
      "source": [
        "# Task6\n",
        "Write a Python program to count the number of strings from a given list of\n",
        "strings."
      ]
    },
    {
      "cell_type": "code",
      "execution_count": 25,
      "id": "e73356bd",
      "metadata": {
        "colab": {
          "base_uri": "https://localhost:8080/"
        },
        "id": "e73356bd",
        "outputId": "f5df919b-c2d6-4355-c85b-6d8f6b470f8c"
      },
      "outputs": [
        {
          "output_type": "stream",
          "name": "stdout",
          "text": [
            "3\n"
          ]
        }
      ],
      "source": [
        "my_list2 = [\"abc\",\"def\",\"zxc\"]\n",
        "count = 0\n",
        "for item in my_list2:\n",
        "  if isinstance(item, str):\n",
        "    count += 1\n",
        "\n",
        "print(count)"
      ]
    },
    {
      "cell_type": "markdown",
      "id": "1eacc78b",
      "metadata": {
        "id": "1eacc78b"
      },
      "source": [
        "# Task7\n",
        "Write a Python program to clone or copy a list"
      ]
    },
    {
      "cell_type": "code",
      "execution_count": 30,
      "id": "63bbc455",
      "metadata": {
        "colab": {
          "base_uri": "https://localhost:8080/"
        },
        "id": "63bbc455",
        "outputId": "8f2cf7a1-b022-473a-974e-f6f7d2f95523"
      },
      "outputs": [
        {
          "output_type": "stream",
          "name": "stdout",
          "text": [
            "['abc', 'def', 'zxc']\n"
          ]
        }
      ],
      "source": [
        "my_list3 = my_list2[:len(my_list2)]\n",
        "print(my_list3)"
      ]
    },
    {
      "cell_type": "markdown",
      "id": "449d71c4",
      "metadata": {
        "id": "449d71c4"
      },
      "source": [
        "# Task8\n",
        "Write a Python program to remove item(s) from a given set.\n",
        "\n",
        "s = set([0, 1, 3, 4, 5])"
      ]
    },
    {
      "cell_type": "code",
      "execution_count": 43,
      "id": "2593788e",
      "metadata": {
        "colab": {
          "base_uri": "https://localhost:8080/"
        },
        "id": "2593788e",
        "outputId": "d43716cc-573d-49a1-9a1b-fd597b213657"
      },
      "outputs": [
        {
          "output_type": "stream",
          "name": "stdout",
          "text": [
            "{0, 1, 3, 4}\n",
            "[0, 1, 3, 4, 5]\n",
            "[1, 3, 4, 5]\n",
            "[1, 4, 5]\n",
            "[1, 4]\n"
          ]
        }
      ],
      "source": [
        "s = set([0, 1, 3, 4, 5])\n",
        "s.remove(5)\n",
        "print(s)\n",
        "#or to remove item(s)\n",
        "s = set([0, 1, 3, 4, 5])\n",
        "s= list(s)\n",
        "print(s)\n",
        "for item in s:\n",
        "  s.remove(item)\n",
        "  print(s)\n",
        "\n",
        "\n"
      ]
    },
    {
      "cell_type": "markdown",
      "id": "f90c349e",
      "metadata": {
        "id": "f90c349e"
      },
      "source": [
        "# Task9\n",
        "Write a Python program to find the maximum and minimum values in a set."
      ]
    },
    {
      "cell_type": "code",
      "execution_count": 47,
      "id": "6f6e62b0",
      "metadata": {
        "colab": {
          "base_uri": "https://localhost:8080/"
        },
        "id": "6f6e62b0",
        "outputId": "7700f16e-bbcd-4a26-bdf0-90fb1e7d4a3d"
      },
      "outputs": [
        {
          "output_type": "stream",
          "name": "stdout",
          "text": [
            "set Maximum is 5 and minimum is 0\n"
          ]
        }
      ],
      "source": [
        "s = set([0, 1, 3, 4, 5])\n",
        "minimum_s = min(s)\n",
        "maximum_s =max(s)\n",
        "print(f\"set Maximum is {maximum_s} and minimum is {minimum_s}\")\n"
      ]
    },
    {
      "cell_type": "markdown",
      "id": "a151e82a",
      "metadata": {
        "id": "a151e82a"
      },
      "source": [
        "# Task10\n",
        "Write a Python program to convert a tuple to a dictionary."
      ]
    },
    {
      "cell_type": "code",
      "execution_count": 53,
      "id": "1c606999",
      "metadata": {
        "colab": {
          "base_uri": "https://localhost:8080/"
        },
        "id": "1c606999",
        "outputId": "0a8b1413-7542-4fc6-9758-4d1d9970e9c0"
      },
      "outputs": [
        {
          "output_type": "stream",
          "name": "stdout",
          "text": [
            "<enumerate object at 0x7dee693f3a00>\n",
            "{0: 1, 1: 2, 2: 3, 3: 4, 4: 5, 5: 6}\n"
          ]
        }
      ],
      "source": [
        "my_tuple = (1, 2, 3, 4, 5, 6)\n",
        "dictionary_tuple = dict(enumerate(my_tuple))\n",
        "print(dictionary_tuple)\n",
        "# i can't find any other way..."
      ]
    },
    {
      "cell_type": "markdown",
      "id": "c8132b1b",
      "metadata": {
        "id": "c8132b1b"
      },
      "source": [
        "# Task11\n",
        "Write a Python program to reverse a tuple."
      ]
    },
    {
      "cell_type": "code",
      "execution_count": 58,
      "id": "49a882d8",
      "metadata": {
        "colab": {
          "base_uri": "https://localhost:8080/"
        },
        "id": "49a882d8",
        "outputId": "02b36512-d624-4fe1-a72f-f29141998bbd"
      },
      "outputs": [
        {
          "output_type": "stream",
          "name": "stdout",
          "text": [
            "[6, 5, 4, 3, 2, 1]\n",
            "(6, 5, 4, 3, 2, 1)\n",
            "(6, 5, 4, 3, 2, 1)\n"
          ]
        }
      ],
      "source": [
        "my_tuple = (1, 2, 3, 4, 5, 6)\n",
        "listed_tuple = list(my_tuple)\n",
        "listed_tuple.reverse()\n",
        "print(listed_tuple)\n",
        "reversed = tuple(listed_tuple)\n",
        "print(reversed)\n",
        "\n",
        "\n",
        "#or\n",
        "my_tuple2= ()\n",
        "my_tuple2= my_tuple[::-1]\n",
        "print(my_tuple2)\n"
      ]
    },
    {
      "cell_type": "markdown",
      "id": "6c062c85",
      "metadata": {
        "id": "6c062c85"
      },
      "source": [
        "# Task12\n",
        "Write a Python program to convert a list of tuples into a dictionary"
      ]
    },
    {
      "cell_type": "code",
      "execution_count": 62,
      "id": "c3b21d48",
      "metadata": {
        "colab": {
          "base_uri": "https://localhost:8080/"
        },
        "id": "c3b21d48",
        "outputId": "9541f2c2-4c3a-485d-9f35-6a289b45b215"
      },
      "outputs": [
        {
          "output_type": "stream",
          "name": "stdout",
          "text": [
            "{'a': 1, 'b': 2, 'c': 3}\n",
            "<class 'dict'>\n"
          ]
        }
      ],
      "source": [
        "list_of_tuples = [('a', 1), ('b', 2), ('c', 3)]\n",
        "result_dict = {}\n",
        "for key, value in list_of_tuples:\n",
        "  result_dict[key] = value\n",
        "print(result_dict)\n",
        "print(type(result_dict))\n",
        "\n",
        "\n"
      ]
    },
    {
      "cell_type": "markdown",
      "id": "2133456d",
      "metadata": {
        "id": "2133456d"
      },
      "source": [
        "# Task13\n",
        "Write a Python program to replace the last value of tuples in a list.\n",
        "\n",
        "Sample list: [(10, 20, 40), (40, 50, 60), (70, 80, 90)]\n",
        "\n",
        "Expected Output: [(10, 20, 100), (40, 50, 100), (70, 80, 100)]\n"
      ]
    },
    {
      "cell_type": "code",
      "execution_count": 68,
      "id": "de535d71",
      "metadata": {
        "colab": {
          "base_uri": "https://localhost:8080/"
        },
        "id": "de535d71",
        "outputId": "6626294b-f796-4383-b0f5-183a4a342cb9"
      },
      "outputs": [
        {
          "output_type": "stream",
          "name": "stdout",
          "text": [
            "[(10, 20, 100), (40, 50, 100), (70, 80, 100)]\n"
          ]
        }
      ],
      "source": [
        "sample_list =[(10, 20, 40), (40, 50, 60), (70, 80, 90)]\n",
        "for i in range(len(sample_list)):\n",
        "  num = sample_list[i]\n",
        "  sample_list[i]= num[0:2]+(100,)\n",
        "print(sample_list)\n",
        "\n"
      ]
    },
    {
      "cell_type": "markdown",
      "id": "076336bc",
      "metadata": {
        "id": "076336bc"
      },
      "source": [
        "# Task14\n",
        "Remove the illegal characters in the variable name:\n",
        "\n",
        "var_name = \"%%6student_name$^$%#\"\n",
        "\n",
        "illegal_chars = \"0123456789!@#$%^&*()-+=[]{}|\\\\;:'\\\",.<>/?~\"\n",
        "\n",
        "output is \"student_name\""
      ]
    },
    {
      "cell_type": "code",
      "execution_count": 69,
      "id": "c377b33b",
      "metadata": {
        "colab": {
          "base_uri": "https://localhost:8080/"
        },
        "id": "c377b33b",
        "outputId": "2779b19e-bc54-4a25-d605-9b17da11e911"
      },
      "outputs": [
        {
          "output_type": "stream",
          "name": "stdout",
          "text": [
            "student_name  \n"
          ]
        }
      ],
      "source": [
        "\n",
        "\n",
        "var_name = \"%%6student_name ^ %#\"\n",
        "illegal_chars = \"0123456789!@#$%^&*()-+=[]{}|\\;:'\\\",.<>/?~\"\n",
        "joined_var_name= ''.join(char for char in var_name if char not in illegal_chars)\n",
        "print(joined_var_name)\n"
      ]
    },
    {
      "cell_type": "markdown",
      "id": "46bd77d7",
      "metadata": {
        "id": "46bd77d7"
      },
      "source": [
        "# Task15\n",
        "Write a Python program to print the even and odd numbers in a series of numbers\n",
        "\n",
        "Sample numbers : numbers = (1, 2, 3, 4, 5, 6, 7, 8, 9)\n",
        "    \n",
        "Expected Output :\n",
        "    \n",
        "Number of even numbers : 2,4,6,8\n",
        "    \n",
        "Number of odd numbers : 1,3,5,7,9"
      ]
    },
    {
      "cell_type": "code",
      "execution_count": 74,
      "id": "924d0873",
      "metadata": {
        "colab": {
          "base_uri": "https://localhost:8080/"
        },
        "id": "924d0873",
        "outputId": "b8e6faf5-ef04-478d-e4c4-0a9e358f058b"
      },
      "outputs": [
        {
          "output_type": "stream",
          "name": "stdout",
          "text": [
            "Number of even numbers: 2, 4, 6, 8\n",
            "Number of odd numbers: 1, 3, 5, 7, 9\n"
          ]
        }
      ],
      "source": [
        "numbers = (1, 2, 3, 4, 5, 6, 7, 8, 9)\n",
        "\n",
        "even_numbers = []\n",
        "odd_numbers = []\n",
        "\n",
        "for num in numbers:\n",
        "    if num % 2 == 0:\n",
        "        even_numbers.append(num)\n",
        "    else:\n",
        "        odd_numbers.append(num)\n",
        "\n",
        "print(\"Number of even numbers:\", \", \".join(map(str, even_numbers)))\n",
        "print(\"Number of odd numbers:\", \", \".join(map(str, odd_numbers)))\n"
      ]
    },
    {
      "cell_type": "markdown",
      "id": "0f8fce9c",
      "metadata": {
        "id": "0f8fce9c"
      },
      "source": [
        "# Task16\n",
        "Write a Python program that iterates the integers from 1 to 50. For multiples of three print \"Fizz\" instead of the number and for multiples of five print \"Buzz\". For numbers that are multiples of three and five, print \"FizzBuzz\"."
      ]
    },
    {
      "cell_type": "code",
      "execution_count": 81,
      "id": "5985952d",
      "metadata": {
        "colab": {
          "base_uri": "https://localhost:8080/"
        },
        "id": "5985952d",
        "outputId": "a13240f3-5d31-4183-a4a9-d343d17e6dca"
      },
      "outputs": [
        {
          "output_type": "stream",
          "name": "stdout",
          "text": [
            "1\n",
            "2\n",
            "Fizz\n",
            "4\n",
            "Buzz\n",
            "Fizz\n",
            "7\n",
            "8\n",
            "Fizz\n",
            "Buzz\n",
            "11\n",
            "Fizz\n",
            "13\n",
            "14\n",
            "FizzBuzz\n",
            "16\n",
            "17\n",
            "Fizz\n",
            "19\n",
            "Buzz\n",
            "Fizz\n",
            "22\n",
            "23\n",
            "Fizz\n",
            "Buzz\n",
            "26\n",
            "Fizz\n",
            "28\n",
            "29\n",
            "FizzBuzz\n",
            "31\n",
            "32\n",
            "Fizz\n",
            "34\n",
            "Buzz\n",
            "Fizz\n",
            "37\n",
            "38\n",
            "Fizz\n",
            "Buzz\n",
            "41\n",
            "Fizz\n",
            "43\n",
            "44\n",
            "FizzBuzz\n",
            "46\n",
            "47\n",
            "Fizz\n",
            "49\n",
            "Buzz\n"
          ]
        }
      ],
      "source": [
        "for number in range(1,51):\n",
        "  if number % 3 ==0 and number % 5 == 0:\n",
        "    print(\"FizzBuzz\")\n",
        "  elif number % 3 == 0:\n",
        "    print(\"Fizz\")\n",
        "  elif number% 5 ==0:\n",
        "    print(\"Buzz\")\n",
        "  else:\n",
        "    print(number)\n"
      ]
    },
    {
      "cell_type": "markdown",
      "id": "504dee61",
      "metadata": {
        "id": "504dee61"
      },
      "source": [
        "# Task17\n",
        "After you have finished the second session, can you explain briefly what information was learned and also what information you learned through the search?"
      ]
    },
    {
      "cell_type": "code",
      "execution_count": null,
      "id": "4711a851",
      "metadata": {
        "id": "4711a851"
      },
      "outputs": [],
      "source": [
        "#lists,tuples,play around their functions and which works on which in the sense of capability of doing certain calculations that are available in lists but not in others like sets..etc and why do we use sets,tuples over lists and vice versa."
      ]
    }
  ],
  "metadata": {
    "kernelspec": {
      "display_name": "Python 3 (ipykernel)",
      "language": "python",
      "name": "python3"
    },
    "language_info": {
      "codemirror_mode": {
        "name": "ipython",
        "version": 3
      },
      "file_extension": ".py",
      "mimetype": "text/x-python",
      "name": "python",
      "nbconvert_exporter": "python",
      "pygments_lexer": "ipython3",
      "version": "3.10.9"
    },
    "colab": {
      "provenance": []
    }
  },
  "nbformat": 4,
  "nbformat_minor": 5
}